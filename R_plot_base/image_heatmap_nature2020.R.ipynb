{
 "cells": [
  {
   "cell_type": "markdown",
   "metadata": {},
   "source": [
    "# R基础绘图"
   ]
  },
  {
   "cell_type": "markdown",
   "metadata": {},
   "source": [
    "https://mp.weixin.qq.com/s?__biz=MzAxMDkxODM1Ng==&mid=2247496689&idx=2&sn=2624aaf018d6f1e1cc0f4dc849599bb6"
   ]
  },
  {
   "cell_type": "markdown",
   "metadata": {},
   "source": [
    "* 标题：A conserved dendritic-cell regulatory program limits antitumour immunity（一个保守的树突细胞调节程序限制抗肿瘤免疫）[nature](https://www.nature.com/articles/s41586-020-2134-y)\n",
    "\n",
    "* DOI(url): 10.1038/s41586-020-2134-y\n",
    "\n",
    "* 日期及杂志：Epub 2020 Mar 25，Nature\n",
    "\n",
    "* 作者及单位：Miriam Merad，西奈山伊坎医学院（Icahn School of Medicine at Mount Sinai）\n",
    "\n",
    "* 关键词：dendritic-cell，antitumour immunity\n",
    "\n",
    "* 代码：https://github.com/effiken/Maier_et_al_nature_2020"
   ]
  },
  {
   "cell_type": "markdown",
   "metadata": {},
   "source": [
    "Fig 1b, Fig 4a 看起来平平无奇的热图，很考验 R-base 作图的基本功。\n",
    "https://github.com/effiken/Maier_et_al_nature_2020/blob/master/plot_figures/plot_1beg.R"
   ]
  },
  {
   "cell_type": "markdown",
   "metadata": {},
   "source": [
    "## 造示例数据"
   ]
  },
  {
   "cell_type": "markdown",
   "metadata": {},
   "source": [
    "一个表达矩阵 counts matrix;\n",
    "\n",
    "一个表型数据 cellInfo data frame;"
   ]
  },
  {
   "cell_type": "markdown",
   "metadata": {},
   "source": [
    "### counts matrix"
   ]
  },
  {
   "cell_type": "code",
   "execution_count": 1,
   "metadata": {},
   "outputs": [
    {
     "data": {
      "text/html": [
       "6.58077522851001e-05"
      ],
      "text/latex": [
       "6.58077522851001e-05"
      ],
      "text/markdown": [
       "6.58077522851001e-05"
      ],
      "text/plain": [
       "[1] 6.580775e-05"
      ]
     },
     "metadata": {},
     "output_type": "display_data"
    },
    {
     "data": {
      "text/html": [
       "0.144106987876434"
      ],
      "text/latex": [
       "0.144106987876434"
      ],
      "text/markdown": [
       "0.144106987876434"
      ],
      "text/plain": [
       "[1] 0.144107"
      ]
     },
     "metadata": {},
     "output_type": "display_data"
    },
    {
     "data": {
      "text/html": [
       "<style>\n",
       ".list-inline {list-style: none; margin:0; padding: 0}\n",
       ".list-inline>li {display: inline-block}\n",
       ".list-inline>li:not(:last-child)::after {content: \"\\00b7\"; padding: 0 .5ex}\n",
       "</style>\n",
       "<ol class=list-inline><li>20</li><li>10</li></ol>\n"
      ],
      "text/latex": [
       "\\begin{enumerate*}\n",
       "\\item 20\n",
       "\\item 10\n",
       "\\end{enumerate*}\n"
      ],
      "text/markdown": [
       "1. 20\n",
       "2. 10\n",
       "\n",
       "\n"
      ],
      "text/plain": [
       "[1] 20 10"
      ]
     },
     "metadata": {},
     "output_type": "display_data"
    },
    {
     "data": {
      "text/html": [
       "<table class=\"dataframe\">\n",
       "<caption>A data.frame: 3 × 10</caption>\n",
       "<thead>\n",
       "\t<tr><th></th><th scope=col>cell1</th><th scope=col>cell2</th><th scope=col>cell3</th><th scope=col>cell4</th><th scope=col>cell5</th><th scope=col>cell6</th><th scope=col>cell7</th><th scope=col>cell8</th><th scope=col>cell9</th><th scope=col>cell10</th></tr>\n",
       "\t<tr><th></th><th scope=col>&lt;dbl&gt;</th><th scope=col>&lt;dbl&gt;</th><th scope=col>&lt;dbl&gt;</th><th scope=col>&lt;dbl&gt;</th><th scope=col>&lt;dbl&gt;</th><th scope=col>&lt;dbl&gt;</th><th scope=col>&lt;dbl&gt;</th><th scope=col>&lt;dbl&gt;</th><th scope=col>&lt;dbl&gt;</th><th scope=col>&lt;dbl&gt;</th></tr>\n",
       "</thead>\n",
       "<tbody>\n",
       "\t<tr><th scope=row>gene1</th><td>0.11711180</td><td>0.13628053</td><td>0.01686392</td><td>0.017766363</td><td>0.001527495</td><td>0.01291248</td><td>0.00574012</td><td>5.350221e-02</td><td>0.004647308</td><td>0.01434333</td></tr>\n",
       "\t<tr><th scope=row>gene2</th><td>0.07969712</td><td>0.07677233</td><td>0.02517822</td><td>0.001206135</td><td>0.014952237</td><td>0.00724894</td><td>0.01302961</td><td>6.580775e-05</td><td>0.013890815</td><td>0.01468193</td></tr>\n",
       "\t<tr><th scope=row>gene3</th><td>0.12076208</td><td>0.12595603</td><td>0.02165938</td><td>0.026087418</td><td>0.013494875</td><td>0.03215157</td><td>0.02371670</td><td>1.945656e-02</td><td>0.002376324</td><td>0.04770873</td></tr>\n",
       "</tbody>\n",
       "</table>\n"
      ],
      "text/latex": [
       "A data.frame: 3 × 10\n",
       "\\begin{tabular}{r|llllllllll}\n",
       "  & cell1 & cell2 & cell3 & cell4 & cell5 & cell6 & cell7 & cell8 & cell9 & cell10\\\\\n",
       "  & <dbl> & <dbl> & <dbl> & <dbl> & <dbl> & <dbl> & <dbl> & <dbl> & <dbl> & <dbl>\\\\\n",
       "\\hline\n",
       "\tgene1 & 0.11711180 & 0.13628053 & 0.01686392 & 0.017766363 & 0.001527495 & 0.01291248 & 0.00574012 & 5.350221e-02 & 0.004647308 & 0.01434333\\\\\n",
       "\tgene2 & 0.07969712 & 0.07677233 & 0.02517822 & 0.001206135 & 0.014952237 & 0.00724894 & 0.01302961 & 6.580775e-05 & 0.013890815 & 0.01468193\\\\\n",
       "\tgene3 & 0.12076208 & 0.12595603 & 0.02165938 & 0.026087418 & 0.013494875 & 0.03215157 & 0.02371670 & 1.945656e-02 & 0.002376324 & 0.04770873\\\\\n",
       "\\end{tabular}\n"
      ],
      "text/markdown": [
       "\n",
       "A data.frame: 3 × 10\n",
       "\n",
       "| <!--/--> | cell1 &lt;dbl&gt; | cell2 &lt;dbl&gt; | cell3 &lt;dbl&gt; | cell4 &lt;dbl&gt; | cell5 &lt;dbl&gt; | cell6 &lt;dbl&gt; | cell7 &lt;dbl&gt; | cell8 &lt;dbl&gt; | cell9 &lt;dbl&gt; | cell10 &lt;dbl&gt; |\n",
       "|---|---|---|---|---|---|---|---|---|---|---|\n",
       "| gene1 | 0.11711180 | 0.13628053 | 0.01686392 | 0.017766363 | 0.001527495 | 0.01291248 | 0.00574012 | 5.350221e-02 | 0.004647308 | 0.01434333 |\n",
       "| gene2 | 0.07969712 | 0.07677233 | 0.02517822 | 0.001206135 | 0.014952237 | 0.00724894 | 0.01302961 | 6.580775e-05 | 0.013890815 | 0.01468193 |\n",
       "| gene3 | 0.12076208 | 0.12595603 | 0.02165938 | 0.026087418 | 0.013494875 | 0.03215157 | 0.02371670 | 1.945656e-02 | 0.002376324 | 0.04770873 |\n",
       "\n"
      ],
      "text/plain": [
       "      cell1      cell2      cell3      cell4       cell5       cell6     \n",
       "gene1 0.11711180 0.13628053 0.01686392 0.017766363 0.001527495 0.01291248\n",
       "gene2 0.07969712 0.07677233 0.02517822 0.001206135 0.014952237 0.00724894\n",
       "gene3 0.12076208 0.12595603 0.02165938 0.026087418 0.013494875 0.03215157\n",
       "      cell7      cell8        cell9       cell10    \n",
       "gene1 0.00574012 5.350221e-02 0.004647308 0.01434333\n",
       "gene2 0.01302961 6.580775e-05 0.013890815 0.01468193\n",
       "gene3 0.02371670 1.945656e-02 0.002376324 0.04770873"
      ]
     },
     "metadata": {},
     "output_type": "display_data"
    }
   ],
   "source": [
    "# 造数据\n",
    "set.seed(1)\n",
    "getExpData=function(nCol=10){ #模拟数据，返回20行 n列矩阵\n",
    "    exps=c()\n",
    "    for(i in 1:nCol){\n",
    "        tmp= rbinom(20, 30, 0.1)  #用二项分布模拟基因表达值，范围[1,30]\n",
    "        \n",
    "        # 随机归零，制造一个对角线附近比较大的矩阵\n",
    "        random0=rep(0, 20)\n",
    "        if( i < (nCol/3-1) ){ \n",
    "            random0[1:6]=1 \n",
    "        }else if(i > nCol/3*2){\n",
    "            random0[15:20]=1\n",
    "        }else{\n",
    "            random0[7:14]=1\n",
    "        }\n",
    "        \n",
    "        noise=abs(rnorm(20, 0, 1)) #添加随机干扰\n",
    "        exps=c(exps, tmp*random0 + noise)\n",
    "    }\n",
    "    matrix(exps, nrow=20) #20行 n列 \n",
    "}\n",
    "\n",
    "# 获取数据\n",
    "mat=getExpData(10)\n",
    "mat[mat > 4] <- 4 #大于4的改为4\n",
    "mat=as.data.frame( apply( mat, 2, function(x){ x/sum(x)} )) #归一化\n",
    "\n",
    "min(mat)\n",
    "max(mat)\n",
    "\n",
    "colnames(mat)=paste0(\"cell\", 1:ncol(mat))\n",
    "rownames(mat)=paste0(\"gene\", 1:nrow(mat))\n",
    "\n",
    "gene_list=rownames(mat)\n",
    "\n",
    "dim(mat) #20行 n列\n",
    "mat[1:3,]"
   ]
  },
  {
   "cell_type": "code",
   "execution_count": 2,
   "metadata": {},
   "outputs": [
    {
     "data": {
      "image/png": "[encoded data removed]",
      "text/plain": [
       "plot without title"
      ]
     },
     "metadata": {
      "image/png": {
       "height": 240,
       "width": 240
      }
     },
     "output_type": "display_data"
    }
   ],
   "source": [
    "options(repr.plot.width=4, repr.plot.height=4)\n",
    "image(as.matrix(mat))"
   ]
  },
  {
   "cell_type": "markdown",
   "metadata": {},
   "source": [
    "### 表型df"
   ]
  },
  {
   "cell_type": "code",
   "execution_count": 3,
   "metadata": {},
   "outputs": [
    {
     "data": {
      "text/html": [
       "<table class=\"dataframe\">\n",
       "<caption>A data.frame: 6 × 3</caption>\n",
       "<thead>\n",
       "\t<tr><th></th><th scope=col>cid</th><th scope=col>cellType</th><th scope=col>sample</th></tr>\n",
       "\t<tr><th></th><th scope=col>&lt;fct&gt;</th><th scope=col>&lt;fct&gt;</th><th scope=col>&lt;fct&gt;</th></tr>\n",
       "</thead>\n",
       "<tbody>\n",
       "\t<tr><th scope=row>1</th><td>cell1</td><td>DC1</td><td>tumor</td></tr>\n",
       "\t<tr><th scope=row>2</th><td>cell2</td><td>DC1</td><td>tumor</td></tr>\n",
       "\t<tr><th scope=row>3</th><td>cell3</td><td>DC2</td><td>tumor</td></tr>\n",
       "\t<tr><th scope=row>4</th><td>cell4</td><td>DC2</td><td>ctrl </td></tr>\n",
       "\t<tr><th scope=row>5</th><td>cell5</td><td>DC2</td><td>tumor</td></tr>\n",
       "\t<tr><th scope=row>6</th><td>cell6</td><td>DC2</td><td>tumor</td></tr>\n",
       "</tbody>\n",
       "</table>\n"
      ],
      "text/latex": [
       "A data.frame: 6 × 3\n",
       "\\begin{tabular}{r|lll}\n",
       "  & cid & cellType & sample\\\\\n",
       "  & <fct> & <fct> & <fct>\\\\\n",
       "\\hline\n",
       "\t1 & cell1 & DC1 & tumor\\\\\n",
       "\t2 & cell2 & DC1 & tumor\\\\\n",
       "\t3 & cell3 & DC2 & tumor\\\\\n",
       "\t4 & cell4 & DC2 & ctrl \\\\\n",
       "\t5 & cell5 & DC2 & tumor\\\\\n",
       "\t6 & cell6 & DC2 & tumor\\\\\n",
       "\\end{tabular}\n"
      ],
      "text/markdown": [
       "\n",
       "A data.frame: 6 × 3\n",
       "\n",
       "| <!--/--> | cid &lt;fct&gt; | cellType &lt;fct&gt; | sample &lt;fct&gt; |\n",
       "|---|---|---|---|\n",
       "| 1 | cell1 | DC1 | tumor |\n",
       "| 2 | cell2 | DC1 | tumor |\n",
       "| 3 | cell3 | DC2 | tumor |\n",
       "| 4 | cell4 | DC2 | ctrl  |\n",
       "| 5 | cell5 | DC2 | tumor |\n",
       "| 6 | cell6 | DC2 | tumor |\n",
       "\n"
      ],
      "text/plain": [
       "  cid   cellType sample\n",
       "1 cell1 DC1      tumor \n",
       "2 cell2 DC1      tumor \n",
       "3 cell3 DC2      tumor \n",
       "4 cell4 DC2      ctrl  \n",
       "5 cell5 DC2      tumor \n",
       "6 cell6 DC2      tumor "
      ]
     },
     "metadata": {},
     "output_type": "display_data"
    }
   ],
   "source": [
    "cellInfo=data.frame(\n",
    "    cid=paste0(\"cell\",1: ncol(mat)),\n",
    "    cellType=c(\"DC1\",\"DC1\", \"DC2\",\"DC2\",\"DC2\",\"DC2\", \"DC3\",\"DC3\",\"DC3\",\"DC3\"),\n",
    "    sample=c(\"tumor\",\"tumor\",\"tumor\",\"ctrl\",\"tumor\",\"tumor\",\"tumor\",\"ctrl\",\"ctrl\",\"tumor\")\n",
    ")\n",
    "cellInfo=cellInfo[order(cellInfo$cellType),]\n",
    "head(cellInfo)"
   ]
  },
  {
   "cell_type": "markdown",
   "metadata": {},
   "source": [
    "### 绘图前的准备"
   ]
  },
  {
   "cell_type": "code",
   "execution_count": 4,
   "metadata": {},
   "outputs": [
    {
     "name": "stdout",
     "output_type": "stream",
     "text": [
      "      DC1       DC2 \n",
      "0.1666667 0.6111111 \n"
     ]
    },
    {
     "data": {
      "text/html": [
       "<style>\n",
       ".dl-inline {width: auto; margin:0; padding: 0}\n",
       ".dl-inline>dt, .dl-inline>dd {float: none; width: auto; display: inline-block}\n",
       ".dl-inline>dt::after {content: \":\\0020\"; padding-right: .5ex}\n",
       ".dl-inline>dt:not(:first-of-type) {padding-left: .5ex}\n",
       "</style><dl class=dl-inline><dt>1</dt><dd>0.0555555555555556</dd><dt>DC1</dt><dd>0.388888888888889</dd><dt>DC2</dt><dd>0.833333333333333</dd></dl>\n"
      ],
      "text/latex": [
       "\\begin{description*}\n",
       "\\item[1] 0.0555555555555556\n",
       "\\item[DC1] 0.388888888888889\n",
       "\\item[DC2] 0.833333333333333\n",
       "\\end{description*}\n"
      ],
      "text/markdown": [
       "1\n",
       ":   0.0555555555555556DC1\n",
       ":   0.388888888888889DC2\n",
       ":   0.833333333333333\n",
       "\n"
      ],
      "text/plain": [
       "                  DC1        DC2 \n",
       "0.05555556 0.38888889 0.83333333 "
      ]
     },
     "metadata": {},
     "output_type": "display_data"
    },
    {
     "data": {
      "text/html": [
       "<style>\n",
       ".list-inline {list-style: none; margin:0; padding: 0}\n",
       ".list-inline>li {display: inline-block}\n",
       ".list-inline>li:not(:last-child)::after {content: \"\\00b7\"; padding: 0 .5ex}\n",
       "</style>\n",
       "<ol class=list-inline><li>tumor</li><li>tumor</li><li>tumor</li><li>ctrl</li><li>tumor</li><li>tumor</li></ol>\n",
       "\n",
       "<details>\n",
       "\t<summary style=display:list-item;cursor:pointer>\n",
       "\t\t<strong>Levels</strong>:\n",
       "\t</summary>\n",
       "\t<style>\n",
       "\t.list-inline {list-style: none; margin:0; padding: 0}\n",
       "\t.list-inline>li {display: inline-block}\n",
       "\t.list-inline>li:not(:last-child)::after {content: \"\\00b7\"; padding: 0 .5ex}\n",
       "\t</style>\n",
       "\t<ol class=list-inline><li>'ctrl'</li><li>'tumor'</li></ol>\n",
       "</details>"
      ],
      "text/latex": [
       "\\begin{enumerate*}\n",
       "\\item tumor\n",
       "\\item tumor\n",
       "\\item tumor\n",
       "\\item ctrl\n",
       "\\item tumor\n",
       "\\item tumor\n",
       "\\end{enumerate*}\n",
       "\n",
       "\\emph{Levels}: \\begin{enumerate*}\n",
       "\\item 'ctrl'\n",
       "\\item 'tumor'\n",
       "\\end{enumerate*}\n"
      ],
      "text/markdown": [
       "1. tumor\n",
       "2. tumor\n",
       "3. tumor\n",
       "4. ctrl\n",
       "5. tumor\n",
       "6. tumor\n",
       "\n",
       "\n",
       "\n",
       "**Levels**: 1. 'ctrl'\n",
       "2. 'tumor'\n",
       "\n",
       "\n"
      ],
      "text/plain": [
       "[1] tumor tumor tumor ctrl  tumor tumor\n",
       "Levels: ctrl tumor"
      ]
     },
     "metadata": {},
     "output_type": "display_data"
    },
    {
     "data": {
      "text/html": [
       "<style>\n",
       ".list-inline {list-style: none; margin:0; padding: 0}\n",
       ".list-inline>li {display: inline-block}\n",
       ".list-inline>li:not(:last-child)::after {content: \"\\00b7\"; padding: 0 .5ex}\n",
       "</style>\n",
       "<ol class=list-inline><li>DC1</li><li>DC1</li><li>DC2</li><li>DC2</li><li>DC2</li><li>DC2</li></ol>\n",
       "\n",
       "<details>\n",
       "\t<summary style=display:list-item;cursor:pointer>\n",
       "\t\t<strong>Levels</strong>:\n",
       "\t</summary>\n",
       "\t<style>\n",
       "\t.list-inline {list-style: none; margin:0; padding: 0}\n",
       "\t.list-inline>li {display: inline-block}\n",
       "\t.list-inline>li:not(:last-child)::after {content: \"\\00b7\"; padding: 0 .5ex}\n",
       "\t</style>\n",
       "\t<ol class=list-inline><li>'DC1'</li><li>'DC2'</li><li>'DC3'</li></ol>\n",
       "</details>"
      ],
      "text/latex": [
       "\\begin{enumerate*}\n",
       "\\item DC1\n",
       "\\item DC1\n",
       "\\item DC2\n",
       "\\item DC2\n",
       "\\item DC2\n",
       "\\item DC2\n",
       "\\end{enumerate*}\n",
       "\n",
       "\\emph{Levels}: \\begin{enumerate*}\n",
       "\\item 'DC1'\n",
       "\\item 'DC2'\n",
       "\\item 'DC3'\n",
       "\\end{enumerate*}\n"
      ],
      "text/markdown": [
       "1. DC1\n",
       "2. DC1\n",
       "3. DC2\n",
       "4. DC2\n",
       "5. DC2\n",
       "6. DC2\n",
       "\n",
       "\n",
       "\n",
       "**Levels**: 1. 'DC1'\n",
       "2. 'DC2'\n",
       "3. 'DC3'\n",
       "\n",
       "\n"
      ],
      "text/plain": [
       "[1] DC1 DC1 DC2 DC2 DC2 DC2\n",
       "Levels: DC1 DC2 DC3"
      ]
     },
     "metadata": {},
     "output_type": "display_data"
    }
   ],
   "source": [
    "# data\n",
    "#df1=as.data.frame(table(cellInfo$cellType))\n",
    "#df2=df1$Freq\n",
    "#names(df2)=df1$Var1\n",
    "\n",
    "df2=cellInfo\n",
    "\n",
    "# 计算红线的位置\n",
    "span=1/ (nrow(df2)-1) #每份宽度\n",
    "breaks <- ( cumsum(table(df2$cellType))-0.5 ) *span #分界线的位置\n",
    "breaks <- breaks[breaks<1]\n",
    "print( breaks )\n",
    "\n",
    "\n",
    "# 计算顶部文字x坐标\n",
    "#mid_clusts <- (c(0,breaks)+c(breaks,1))/2 #原文不准确，两端并不是简单的0和1，而是分别外延0.5份。\n",
    "mid_clusts <- (c(-0.5*span,breaks)+c(breaks,1+0.5*span))/2\n",
    "mid_clusts\n",
    "\n",
    "# 色彩\n",
    "lin_col <- rgb(t(col2rgb(c(7,4,5)))*.7,max=255) #*0.7变暗\n",
    "s <- seq(1,0,-1/49)\n",
    "\n",
    "# 底部细胞来源\n",
    "cell2sample =factor(cellInfo$sample)\n",
    "head(cell2sample)\n",
    "# 细胞类型\n",
    "cell2annot=factor( cellInfo$cellType )\n",
    "head(cell2annot)"
   ]
  },
  {
   "cell_type": "markdown",
   "metadata": {},
   "source": [
    "## 画图代码(优化过)"
   ]
  },
  {
   "cell_type": "code",
   "execution_count": 5,
   "metadata": {},
   "outputs": [
    {
     "data": {
      "image/png": "[encoded data removed]",
      "text/plain": [
       "plot without title"
      ]
     },
     "metadata": {
      "image/png": {
       "height": 190.8,
       "width": 163.8
      }
     },
     "output_type": "display_data"
    }
   ],
   "source": [
    "options(repr.plot.width=2.73, repr.plot.height=3.18, units=\"in\") ##height=3.18,width=2.53,\n",
    "# 使用layout函数，每个区域还设置了高度heighs和宽度widths\n",
    "layout( matrix(1:6,nrow=3,ncol=2), widths=c(10,4), heights=c(.5,10,.5))\n",
    "par(oma=c(1,5,1.5,.1)) # 使用了par设置oma，mar图的边距\n",
    "\n",
    "\n",
    "#%%%%%%%%%%%%%%%%%%\n",
    "# 第1列\n",
    "#%%%%%%%%%%%%%%%%%%\n",
    "#column 1\n",
    "par(mar=c(0,0,0,0))\n",
    "\n",
    "# pic1 热图\n",
    "image( z=as.matrix(as.numeric(cell2annot)), xaxt=\"n\", yaxt=\"n\", col=lin_col)\n",
    "box() #方框\n",
    "abline(v=breaks, col=\"red\") #红线\n",
    "mtext(at=mid_clusts,c(\"DC1\",\"DC2\",\"DC3\"),cex=.7,line=.25) #上方文字\n",
    "\n",
    "mtext(\"Annotation\",font=2,side=2,las=2,line=.25,cex=.6) #左边文字\n",
    "axis(side=3,at=mid_clusts,labels=F,tck=-.2)\n",
    "\n",
    "# pic2\n",
    "# image绘制表达谱矩阵，使用了rgb设置颜色\n",
    "image( z=t(log2(1+as.matrix(mat))), col=rgb(s,s,s), xaxt=\"n\",yaxt=\"n\")\n",
    "box() # 矩阵外面添加盒子\n",
    "abline(v=breaks,col=\"red\") # 添加两条红色的直线\n",
    "\n",
    "# 添加行基因名字\n",
    "mtext(gene_list,side=2,at=seq(0,1,1/(length(gene_list)-1)),las=2,line=.25,font=3,cex=.6)\n",
    "\n",
    "\n",
    "# pic3\n",
    "par(mar=c(0,0,0,0))\n",
    "image(z=as.matrix(as.numeric(factor(cell2sample,c(\"tumor\",\"ctrl\")))),\n",
    "      col=c(rgb(255,192,203,max=255),rgb(165,75,42,max=255)),\n",
    "      xaxt=\"n\",yaxt=\"n\")\n",
    "abline(v=breaks,col=\"red\")\n",
    "box()\n",
    "mtext(\"Sample type\",font=2,side=2,las=2,line=.25,cex=.6)\n",
    "\n",
    "\n",
    "\n",
    "\n",
    "#%%%%%%%%%%%%%%%%%%\n",
    "# 第二列\n",
    "#%%%%%%%%%%%%%%%%%%\n",
    "par(mar=c(0,0,0,0)) # 设置绘图边距\n",
    "plot.new() #第一行空着\n",
    "\n",
    "# 第二行\n",
    "par(mar=c(5,1.5,5,1.5))\n",
    "image(t(matrix(1:50)),col=rgb(s,s,s),xaxt=\"n\",yaxt=\"n\")\n",
    "box()\n",
    "mtext(c(\"0\",\"\\u22654\"),at=c(0,1),las=2,side=4,cex=.7,line=.25) #特殊符号 >=\n",
    "mtext(\"Log2\\n1+#UMI per 2000\",side=3,line=.5,cex=.4)\n",
    "#mtext(\"1+#UMI/2000\",line=.5,cex=.5)\n",
    "\n",
    "# 第三行\n",
    "par(mar=c(0,0,0,0))\n",
    "plot.new()\n",
    "legend(x=0,y=1.8, legend = c(\"tumor\",\"ctrl\"),\n",
    "       xpd=NA,\n",
    "       y.intersp=1.5, #图形之间的高度差\n",
    "       border=NA, #不要图例小方块描边\n",
    "       cex=0.9, #图例缩放倍数\n",
    "       bty=\"n\", #不要图例的方框\n",
    "       fill = c( rgb(255,192,203,max=255),rgb(165,75,42,max=255) ) )"
   ]
  },
  {
   "cell_type": "code",
   "execution_count": null,
   "metadata": {},
   "outputs": [],
   "source": []
  },
  {
   "cell_type": "markdown",
   "metadata": {},
   "source": [
    "# 分步骤解析"
   ]
  },
  {
   "cell_type": "markdown",
   "metadata": {},
   "source": [
    "## 分割画布"
   ]
  },
  {
   "cell_type": "markdown",
   "metadata": {},
   "source": [
    "首先，作者将此图划分成了3行2列的区域，然后在每个区域里使用基础绘图函数进行填充。\n",
    "\n",
    "你没看错，这幅图里面的文字，方框，甚至坐标都是一个一个单独画进来的。\n",
    "\n",
    "其实，这个很考验基本功，特别是**基础绘图函数**的坐标，有时候很难搞。"
   ]
  },
  {
   "cell_type": "code",
   "execution_count": 6,
   "metadata": {},
   "outputs": [
    {
     "data": {
      "image/png": "[encoded data removed]",
      "text/plain": [
       "plot without title"
      ]
     },
     "metadata": {
      "image/png": {
       "height": 240,
       "width": 360
      }
     },
     "output_type": "display_data"
    }
   ],
   "source": [
    "options(repr.plot.width=6, repr.plot.height=4)\n",
    "\n",
    "layout( matrix(1:6,nrow=3,ncol=2), #竖着排列1-6，3行2列\n",
    "       widths=c(10,4), #左右10：4\n",
    "       heights=c(.5,10,.5)) #上下 0.5  10  0.5\n",
    "#共6个区域，其中第二列4，5，6就画一个图例\n",
    "\n",
    "# 使用了par设置oma，mar图的边距\n",
    "par(oma=c(1,5,1.5,.1))\n",
    "par(mar=c(0,0,0,0))\n",
    "\n",
    "plot(c(1),xaxt=\"n\",yaxt=\"n\")\n",
    "plot(c(2),xaxt=\"n\",yaxt=\"n\")\n",
    "plot(c(3),xaxt=\"n\",yaxt=\"n\")\n",
    "\n",
    "plot(c(4),xaxt=\"n\",yaxt=\"n\")\n",
    "plot(c(5),xaxt=\"n\",yaxt=\"n\")\n",
    "plot(c(6),xaxt=\"n\",yaxt=\"n\")"
   ]
  },
  {
   "cell_type": "markdown",
   "metadata": {},
   "source": [
    "# 第一列"
   ]
  },
  {
   "cell_type": "markdown",
   "metadata": {},
   "source": [
    "## col 1: row 1"
   ]
  },
  {
   "cell_type": "markdown",
   "metadata": {},
   "source": [
    "然后绘制第一列的第一行区域\n",
    "使用了par设置oma，mar图的边距\n",
    "\n",
    "image绘制颜色格子，输入数据是一个矩阵，xaxt和yaxt设置不绘制坐标轴\n",
    "\n",
    "box对图片绘图区域添加一个方框\n",
    "\n",
    "abline添加颜色格子中间的两条红色的线\n",
    "\n",
    "mtext添加行注释和列注释\n",
    "\n",
    "axis再在颜色格子上方添加坐标刻度"
   ]
  },
  {
   "cell_type": "markdown",
   "metadata": {},
   "source": [
    "### 生成颜色 "
   ]
  },
  {
   "cell_type": "markdown",
   "metadata": {},
   "source": [
    "#### col2rgb()"
   ]
  },
  {
   "cell_type": "code",
   "execution_count": 7,
   "metadata": {},
   "outputs": [
    {
     "data": {
      "text/html": [
       "<table class=\"dataframe\">\n",
       "<caption>A matrix: 3 × 1 of type int</caption>\n",
       "<tbody>\n",
       "\t<tr><th scope=row>red</th><td>255</td></tr>\n",
       "\t<tr><th scope=row>green</th><td>  0</td></tr>\n",
       "\t<tr><th scope=row>blue</th><td>  0</td></tr>\n",
       "</tbody>\n",
       "</table>\n"
      ],
      "text/latex": [
       "A matrix: 3 × 1 of type int\n",
       "\\begin{tabular}{r|l}\n",
       "\tred & 255\\\\\n",
       "\tgreen &   0\\\\\n",
       "\tblue &   0\\\\\n",
       "\\end{tabular}\n"
      ],
      "text/markdown": [
       "\n",
       "A matrix: 3 × 1 of type int\n",
       "\n",
       "| red | 255 |\n",
       "| green |   0 |\n",
       "| blue |   0 |\n",
       "\n"
      ],
      "text/plain": [
       "      [,1]\n",
       "red   255 \n",
       "green   0 \n",
       "blue    0 "
      ]
     },
     "metadata": {},
     "output_type": "display_data"
    }
   ],
   "source": [
    "col2rgb(10)"
   ]
  },
  {
   "cell_type": "code",
   "execution_count": 8,
   "metadata": {},
   "outputs": [
    {
     "data": {
      "text/html": [
       "<table class=\"dataframe\">\n",
       "<caption>A matrix: 3 × 3 of type int</caption>\n",
       "<tbody>\n",
       "\t<tr><th scope=row>red</th><td>255</td><td>  0</td><td>  0</td></tr>\n",
       "\t<tr><th scope=row>green</th><td>255</td><td>  0</td><td>255</td></tr>\n",
       "\t<tr><th scope=row>blue</th><td>  0</td><td>255</td><td>255</td></tr>\n",
       "</tbody>\n",
       "</table>\n"
      ],
      "text/latex": [
       "A matrix: 3 × 3 of type int\n",
       "\\begin{tabular}{r|lll}\n",
       "\tred & 255 &   0 &   0\\\\\n",
       "\tgreen & 255 &   0 & 255\\\\\n",
       "\tblue &   0 & 255 & 255\\\\\n",
       "\\end{tabular}\n"
      ],
      "text/markdown": [
       "\n",
       "A matrix: 3 × 3 of type int\n",
       "\n",
       "| red | 255 |   0 |   0 |\n",
       "| green | 255 |   0 | 255 |\n",
       "| blue |   0 | 255 | 255 |\n",
       "\n"
      ],
      "text/plain": [
       "      [,1] [,2] [,3]\n",
       "red   255    0    0 \n",
       "green 255    0  255 \n",
       "blue    0  255  255 "
      ]
     },
     "metadata": {},
     "output_type": "display_data"
    }
   ],
   "source": [
    "#col2rgb #R color to RGB (red/green/blue) conversion.\n",
    "col2rgb(c(7,4,5) )"
   ]
  },
  {
   "cell_type": "markdown",
   "metadata": {},
   "source": [
    "#### rgb()"
   ]
  },
  {
   "cell_type": "code",
   "execution_count": 9,
   "metadata": {},
   "outputs": [
    {
     "data": {
      "text/html": [
       "<style>\n",
       ".list-inline {list-style: none; margin:0; padding: 0}\n",
       ".list-inline>li {display: inline-block}\n",
       ".list-inline>li:not(:last-child)::after {content: \"\\00b7\"; padding: 0 .5ex}\n",
       "</style>\n",
       "<ol class=list-inline><li>'#B2B200'</li><li>'#0000B2'</li><li>'#00B2B2'</li></ol>\n"
      ],
      "text/latex": [
       "\\begin{enumerate*}\n",
       "\\item '\\#B2B200'\n",
       "\\item '\\#0000B2'\n",
       "\\item '\\#00B2B2'\n",
       "\\end{enumerate*}\n"
      ],
      "text/markdown": [
       "1. '#B2B200'\n",
       "2. '#0000B2'\n",
       "3. '#00B2B2'\n",
       "\n",
       "\n"
      ],
      "text/plain": [
       "[1] \"#B2B200\" \"#0000B2\" \"#00B2B2\""
      ]
     },
     "metadata": {},
     "output_type": "display_data"
    }
   ],
   "source": [
    "# rgb(red, green, blue, alpha, names = NULL, maxColorValue = 1)\n",
    "lin_col <- rgb(t(col2rgb(c(7,4,5)))*.7,max=255) #*0.7变暗\n",
    "lin_col"
   ]
  },
  {
   "cell_type": "code",
   "execution_count": 10,
   "metadata": {},
   "outputs": [
    {
     "data": {
      "image/png": "[encoded data removed]",
      "text/plain": [
       "plot without title"
      ]
     },
     "metadata": {
      "image/png": {
       "height": 150,
       "width": 120
      }
     },
     "output_type": "display_data"
    }
   ],
   "source": [
    "options(repr.plot.width=2, repr.plot.height=2.5)\n",
    "barplot(rep(1,3), col=lin_col)"
   ]
  },
  {
   "cell_type": "markdown",
   "metadata": {},
   "source": [
    "### image 热图"
   ]
  },
  {
   "cell_type": "code",
   "execution_count": 11,
   "metadata": {},
   "outputs": [
    {
     "data": {
      "text/html": [
       "<table class=\"dataframe\">\n",
       "<caption>A matrix: 1 × 9 of type dbl</caption>\n",
       "<tbody>\n",
       "\t<tr><td>-1</td><td>-1</td><td>-1</td><td>0</td><td>1</td><td>1</td><td>1</td><td>1</td><td>1</td></tr>\n",
       "</tbody>\n",
       "</table>\n"
      ],
      "text/latex": [
       "A matrix: 1 × 9 of type dbl\n",
       "\\begin{tabular}{lllllllll}\n",
       "\t -1 & -1 & -1 & 0 & 1 & 1 & 1 & 1 & 1\\\\\n",
       "\\end{tabular}\n"
      ],
      "text/markdown": [
       "\n",
       "A matrix: 1 × 9 of type dbl\n",
       "\n",
       "| -1 | -1 | -1 | 0 | 1 | 1 | 1 | 1 | 1 |\n",
       "\n"
      ],
      "text/plain": [
       "     [,1] [,2] [,3] [,4] [,5] [,6] [,7] [,8] [,9]\n",
       "[1,] -1   -1   -1   0    1    1    1    1    1   "
      ]
     },
     "metadata": {},
     "output_type": "display_data"
    }
   ],
   "source": [
    "#造一个数据\n",
    "\n",
    "set.seed(1)\n",
    "df0=sign( round(rnorm(9,0,2)) )\n",
    "\n",
    "df0=df0[order(df0)]\n",
    "df0=matrix(df0, nrow=1)\n",
    "df0"
   ]
  },
  {
   "cell_type": "code",
   "execution_count": 12,
   "metadata": {},
   "outputs": [
    {
     "data": {
      "image/png": "[encoded data removed]",
      "text/plain": [
       "plot without title"
      ]
     },
     "metadata": {
      "image/png": {
       "height": 150,
       "width": 360
      }
     },
     "output_type": "display_data"
    }
   ],
   "source": [
    "# 以(x,y)位置为中心画方框，深浅由矩阵 z 决定，颜色值col传入\n",
    "\n",
    "options(repr.plot.width=6, repr.plot.height=2.5)\n",
    "\n",
    "image( x=1:9, y=1, z=t(df0), col=lin_col )\n",
    "#col: a list of colors such as that generated by hcl.colors, gray.colors or similar functions."
   ]
  },
  {
   "cell_type": "markdown",
   "metadata": {},
   "source": [
    "#### 分界线坐标怎么算？"
   ]
  },
  {
   "cell_type": "markdown",
   "metadata": {},
   "source": [
    "之前总是不准，这一次分析明白。"
   ]
  },
  {
   "cell_type": "code",
   "execution_count": 13,
   "metadata": {
    "scrolled": true
   },
   "outputs": [
    {
     "data": {
      "image/png": "[encoded data removed]",
      "text/plain": [
       "plot without title"
      ]
     },
     "metadata": {
      "image/png": {
       "height": 150,
       "width": 360
      }
     },
     "output_type": "display_data"
    }
   ],
   "source": [
    "# 没有(x,y)则自动做(0,1)归一化\n",
    "options(repr.plot.width=6, repr.plot.height=2.5)\n",
    "\n",
    "image( z=t(df0), col=lin_col )\n",
    "\n",
    "abline(v=c(2+0.5, 3+0.5)/8, col=\"red\") #红线"
   ]
  },
  {
   "cell_type": "code",
   "execution_count": 14,
   "metadata": {},
   "outputs": [
    {
     "name": "stdout",
     "output_type": "stream",
     "text": [
      "  1   2   3 \n",
      "0.1 0.3 0.7 \n"
     ]
    },
    {
     "data": {
      "image/png": "[encoded data removed]",
      "text/plain": [
       "plot without title"
      ]
     },
     "metadata": {
      "image/png": {
       "height": 120,
       "width": 360
      }
     },
     "output_type": "display_data"
    }
   ],
   "source": [
    "(function(){\n",
    "    #1. 可见，在(0,1)之间，共3个方块，也就是 每份宽度 1/3；第一份右侧是0.5份\n",
    "    df0=matrix(c(1,2,3,3,4,4), nrow=1)\n",
    "    \n",
    "    span=1/(ncol(df0)-1) #每份宽度\n",
    "    breaks <- ( cumsum(table(df0[1,])) -0.5 ) *span #分界线的位置\n",
    "    breaks <- breaks[breaks<1] #最右端的不要\n",
    "    print(breaks)\n",
    "    \n",
    "    options(repr.plot.width=6, repr.plot.height=2) #jupyter 宽高\n",
    "    image(z=t(df0))\n",
    "    abline(v=breaks, col=\"red\", lwd=2) #红线位置\n",
    "    \n",
    "    # 计算顶部文字x坐标，每份的中点\n",
    "    mid_clusts <- (c(-0.5*span,breaks)+c(breaks,1+0.5*span))/2\n",
    "    axis(side=3,at=mid_clusts,labels=F,tck=-.2)\n",
    "    mtext(at=mid_clusts,c(\"text1\",\"text2\",\"text3\",\"text4\"),cex=.7,line=.25)\n",
    "})()"
   ]
  },
  {
   "cell_type": "markdown",
   "metadata": {},
   "source": [
    "### c1r1 效果图"
   ]
  },
  {
   "cell_type": "code",
   "execution_count": 15,
   "metadata": {},
   "outputs": [
    {
     "name": "stdout",
     "output_type": "stream",
     "text": [
      "    0     1 \n",
      "0.125 0.625 \n"
     ]
    },
    {
     "data": {
      "image/png": "[encoded data removed]",
      "text/plain": [
       "plot without title"
      ]
     },
     "metadata": {
      "image/png": {
       "height": 43.7419,
       "width": 317.1429
      }
     },
     "output_type": "display_data"
    }
   ],
   "source": [
    "# section 1\n",
    "options(repr.plot.width=6/14*10+1, repr.plot.height=4/15.5*0.5+0.6)\n",
    "#options(repr.plot.width=6, repr.plot.height=4)\n",
    "\n",
    "# 使用layout函数，每个区域还设置了高度heighs和宽度widths\n",
    "#layout( matrix(1:6,nrow=3,ncol=2), widths=c(10,4), heights=c(.5,10,.5))\n",
    "#\n",
    "# 使用了par设置oma，mar图的边距\n",
    "par(oma=c(1,5,1.5,.1))\n",
    "\n",
    "\n",
    "#column 1\n",
    "par(mar=c(0,0,0,0))\n",
    "\n",
    "\n",
    "df2=matrix(c(0,1,1,2,2), ncol = 1)\n",
    "\n",
    "# 计算红线的位置\n",
    "span=1/(nrow(df2)-1) #每份宽度\n",
    "breaks <- ( cumsum(table(df2[,1]))-0.5 ) *span #分界线的位置\n",
    "breaks <- breaks[breaks<1]\n",
    "print( breaks )\n",
    "# 计算顶部文字x坐标\n",
    "#mid_clusts <- (c(0,breaks)+c(breaks,1))/2 #原文不准确，两端并不是简单的0和1，而是分别外延0.5份。\n",
    "mid_clusts <- (c(-0.5*span,breaks)+c(breaks,1+0.5*span))/2\n",
    "\n",
    "# 主体热图\n",
    "image( #x=0:nrow(df2), y=1, \n",
    "      z=df2, xaxt=\"n\", yaxt=\"n\", col=lin_col)\n",
    "box() #方框\n",
    "abline(v=breaks, col=\"red\") #红线\n",
    "mtext(at=mid_clusts,c(\"mregDC\",\"DC1\",\"DC2\"),cex=.7,line=.25) #上方文字\n",
    "\n",
    "mtext(\"Annotation\",font=2,side=2,las=2,line=.25,cex=.6) #左边文字\n",
    "axis(side=3,at=mid_clusts,labels=F,tck=-.2)"
   ]
  },
  {
   "cell_type": "markdown",
   "metadata": {},
   "source": [
    "## 第一列第二行"
   ]
  },
  {
   "cell_type": "markdown",
   "metadata": {},
   "source": [
    "接着，绘制第一列第2行灰色表达矩阵部分，依然使用了image，xart，yaxt，box，abline，metxt这些基础函数。这部分代码中有一个颜色rgb(s,s,s)值得收录一下。"
   ]
  },
  {
   "cell_type": "code",
   "execution_count": 16,
   "metadata": {
    "scrolled": true
   },
   "outputs": [
    {
     "data": {
      "text/html": [
       "<style>\n",
       ".list-inline {list-style: none; margin:0; padding: 0}\n",
       ".list-inline>li {display: inline-block}\n",
       ".list-inline>li:not(:last-child)::after {content: \"\\00b7\"; padding: 0 .5ex}\n",
       "</style>\n",
       "<ol class=list-inline><li>1</li><li>0.979591836734694</li><li>0.959183673469388</li><li>0.938775510204082</li><li>0.918367346938776</li><li>0.897959183673469</li><li>0.877551020408163</li><li>0.857142857142857</li><li>0.836734693877551</li><li>0.816326530612245</li><li>0.795918367346939</li><li>0.775510204081633</li><li>0.755102040816326</li><li>0.73469387755102</li><li>0.714285714285714</li><li>0.693877551020408</li><li>0.673469387755102</li><li>0.653061224489796</li><li>0.63265306122449</li><li>0.612244897959184</li><li>0.591836734693878</li><li>0.571428571428571</li><li>0.551020408163265</li><li>0.530612244897959</li><li>0.510204081632653</li><li>0.489795918367347</li><li>0.469387755102041</li><li>0.448979591836735</li><li>0.428571428571429</li><li>0.408163265306122</li><li>0.387755102040816</li><li>0.36734693877551</li><li>0.346938775510204</li><li>0.326530612244898</li><li>0.306122448979592</li><li>0.285714285714286</li><li>0.26530612244898</li><li>0.244897959183674</li><li>0.224489795918367</li><li>0.204081632653061</li><li>0.183673469387755</li><li>0.163265306122449</li><li>0.142857142857143</li><li>0.122448979591837</li><li>0.102040816326531</li><li>0.0816326530612246</li><li>0.0612244897959184</li><li>0.0408163265306123</li><li>0.0204081632653061</li><li>1.11022302462516e-16</li></ol>\n"
      ],
      "text/latex": [
       "\\begin{enumerate*}\n",
       "\\item 1\n",
       "\\item 0.979591836734694\n",
       "\\item 0.959183673469388\n",
       "\\item 0.938775510204082\n",
       "\\item 0.918367346938776\n",
       "\\item 0.897959183673469\n",
       "\\item 0.877551020408163\n",
       "\\item 0.857142857142857\n",
       "\\item 0.836734693877551\n",
       "\\item 0.816326530612245\n",
       "\\item 0.795918367346939\n",
       "\\item 0.775510204081633\n",
       "\\item 0.755102040816326\n",
       "\\item 0.73469387755102\n",
       "\\item 0.714285714285714\n",
       "\\item 0.693877551020408\n",
       "\\item 0.673469387755102\n",
       "\\item 0.653061224489796\n",
       "\\item 0.63265306122449\n",
       "\\item 0.612244897959184\n",
       "\\item 0.591836734693878\n",
       "\\item 0.571428571428571\n",
       "\\item 0.551020408163265\n",
       "\\item 0.530612244897959\n",
       "\\item 0.510204081632653\n",
       "\\item 0.489795918367347\n",
       "\\item 0.469387755102041\n",
       "\\item 0.448979591836735\n",
       "\\item 0.428571428571429\n",
       "\\item 0.408163265306122\n",
       "\\item 0.387755102040816\n",
       "\\item 0.36734693877551\n",
       "\\item 0.346938775510204\n",
       "\\item 0.326530612244898\n",
       "\\item 0.306122448979592\n",
       "\\item 0.285714285714286\n",
       "\\item 0.26530612244898\n",
       "\\item 0.244897959183674\n",
       "\\item 0.224489795918367\n",
       "\\item 0.204081632653061\n",
       "\\item 0.183673469387755\n",
       "\\item 0.163265306122449\n",
       "\\item 0.142857142857143\n",
       "\\item 0.122448979591837\n",
       "\\item 0.102040816326531\n",
       "\\item 0.0816326530612246\n",
       "\\item 0.0612244897959184\n",
       "\\item 0.0408163265306123\n",
       "\\item 0.0204081632653061\n",
       "\\item 1.11022302462516e-16\n",
       "\\end{enumerate*}\n"
      ],
      "text/markdown": [
       "1. 1\n",
       "2. 0.979591836734694\n",
       "3. 0.959183673469388\n",
       "4. 0.938775510204082\n",
       "5. 0.918367346938776\n",
       "6. 0.897959183673469\n",
       "7. 0.877551020408163\n",
       "8. 0.857142857142857\n",
       "9. 0.836734693877551\n",
       "10. 0.816326530612245\n",
       "11. 0.795918367346939\n",
       "12. 0.775510204081633\n",
       "13. 0.755102040816326\n",
       "14. 0.73469387755102\n",
       "15. 0.714285714285714\n",
       "16. 0.693877551020408\n",
       "17. 0.673469387755102\n",
       "18. 0.653061224489796\n",
       "19. 0.63265306122449\n",
       "20. 0.612244897959184\n",
       "21. 0.591836734693878\n",
       "22. 0.571428571428571\n",
       "23. 0.551020408163265\n",
       "24. 0.530612244897959\n",
       "25. 0.510204081632653\n",
       "26. 0.489795918367347\n",
       "27. 0.469387755102041\n",
       "28. 0.448979591836735\n",
       "29. 0.428571428571429\n",
       "30. 0.408163265306122\n",
       "31. 0.387755102040816\n",
       "32. 0.36734693877551\n",
       "33. 0.346938775510204\n",
       "34. 0.326530612244898\n",
       "35. 0.306122448979592\n",
       "36. 0.285714285714286\n",
       "37. 0.26530612244898\n",
       "38. 0.244897959183674\n",
       "39. 0.224489795918367\n",
       "40. 0.204081632653061\n",
       "41. 0.183673469387755\n",
       "42. 0.163265306122449\n",
       "43. 0.142857142857143\n",
       "44. 0.122448979591837\n",
       "45. 0.102040816326531\n",
       "46. 0.0816326530612246\n",
       "47. 0.0612244897959184\n",
       "48. 0.0408163265306123\n",
       "49. 0.0204081632653061\n",
       "50. 1.11022302462516e-16\n",
       "\n",
       "\n"
      ],
      "text/plain": [
       " [1] 1.000000e+00 9.795918e-01 9.591837e-01 9.387755e-01 9.183673e-01\n",
       " [6] 8.979592e-01 8.775510e-01 8.571429e-01 8.367347e-01 8.163265e-01\n",
       "[11] 7.959184e-01 7.755102e-01 7.551020e-01 7.346939e-01 7.142857e-01\n",
       "[16] 6.938776e-01 6.734694e-01 6.530612e-01 6.326531e-01 6.122449e-01\n",
       "[21] 5.918367e-01 5.714286e-01 5.510204e-01 5.306122e-01 5.102041e-01\n",
       "[26] 4.897959e-01 4.693878e-01 4.489796e-01 4.285714e-01 4.081633e-01\n",
       "[31] 3.877551e-01 3.673469e-01 3.469388e-01 3.265306e-01 3.061224e-01\n",
       "[36] 2.857143e-01 2.653061e-01 2.448980e-01 2.244898e-01 2.040816e-01\n",
       "[41] 1.836735e-01 1.632653e-01 1.428571e-01 1.224490e-01 1.020408e-01\n",
       "[46] 8.163265e-02 6.122449e-02 4.081633e-02 2.040816e-02 1.110223e-16"
      ]
     },
     "metadata": {},
     "output_type": "display_data"
    }
   ],
   "source": [
    "s <- seq(1,0,-1/49)\n",
    "s"
   ]
  },
  {
   "cell_type": "code",
   "execution_count": 17,
   "metadata": {},
   "outputs": [
    {
     "data": {
      "text/html": [
       "<style>\n",
       ".list-inline {list-style: none; margin:0; padding: 0}\n",
       ".list-inline>li {display: inline-block}\n",
       ".list-inline>li:not(:last-child)::after {content: \"\\00b7\"; padding: 0 .5ex}\n",
       "</style>\n",
       "<ol class=list-inline><li>32</li><li>11</li></ol>\n"
      ],
      "text/latex": [
       "\\begin{enumerate*}\n",
       "\\item 32\n",
       "\\item 11\n",
       "\\end{enumerate*}\n"
      ],
      "text/markdown": [
       "1. 32\n",
       "2. 11\n",
       "\n",
       "\n"
      ],
      "text/plain": [
       "[1] 32 11"
      ]
     },
     "metadata": {},
     "output_type": "display_data"
    }
   ],
   "source": [
    "dim(mtcars)"
   ]
  },
  {
   "cell_type": "markdown",
   "metadata": {},
   "source": [
    "### scale() 列标准化"
   ]
  },
  {
   "cell_type": "code",
   "execution_count": 18,
   "metadata": {},
   "outputs": [
    {
     "data": {
      "text/html": [
       "<table class=\"dataframe\">\n",
       "<caption>A data.frame: 15 × 4</caption>\n",
       "<thead>\n",
       "\t<tr><th></th><th scope=col>Sepal.Length</th><th scope=col>Sepal.Width</th><th scope=col>Petal.Length</th><th scope=col>Petal.Width</th></tr>\n",
       "\t<tr><th></th><th scope=col>&lt;dbl&gt;</th><th scope=col>&lt;dbl&gt;</th><th scope=col>&lt;dbl&gt;</th><th scope=col>&lt;dbl&gt;</th></tr>\n",
       "</thead>\n",
       "<tbody>\n",
       "\t<tr><th scope=row>1</th><td>5.1</td><td>3.5</td><td>1.4</td><td>0.2</td></tr>\n",
       "\t<tr><th scope=row>11</th><td>5.4</td><td>3.7</td><td>1.5</td><td>0.2</td></tr>\n",
       "\t<tr><th scope=row>21</th><td>5.4</td><td>3.4</td><td>1.7</td><td>0.2</td></tr>\n",
       "\t<tr><th scope=row>31</th><td>4.8</td><td>3.1</td><td>1.6</td><td>0.2</td></tr>\n",
       "\t<tr><th scope=row>41</th><td>5.0</td><td>3.5</td><td>1.3</td><td>0.3</td></tr>\n",
       "\t<tr><th scope=row>51</th><td>7.0</td><td>3.2</td><td>4.7</td><td>1.4</td></tr>\n",
       "\t<tr><th scope=row>61</th><td>5.0</td><td>2.0</td><td>3.5</td><td>1.0</td></tr>\n",
       "\t<tr><th scope=row>71</th><td>5.9</td><td>3.2</td><td>4.8</td><td>1.8</td></tr>\n",
       "\t<tr><th scope=row>81</th><td>5.5</td><td>2.4</td><td>3.8</td><td>1.1</td></tr>\n",
       "\t<tr><th scope=row>91</th><td>5.5</td><td>2.6</td><td>4.4</td><td>1.2</td></tr>\n",
       "\t<tr><th scope=row>101</th><td>6.3</td><td>3.3</td><td>6.0</td><td>2.5</td></tr>\n",
       "\t<tr><th scope=row>111</th><td>6.5</td><td>3.2</td><td>5.1</td><td>2.0</td></tr>\n",
       "\t<tr><th scope=row>121</th><td>6.9</td><td>3.2</td><td>5.7</td><td>2.3</td></tr>\n",
       "\t<tr><th scope=row>131</th><td>7.4</td><td>2.8</td><td>6.1</td><td>1.9</td></tr>\n",
       "\t<tr><th scope=row>141</th><td>6.7</td><td>3.1</td><td>5.6</td><td>2.4</td></tr>\n",
       "</tbody>\n",
       "</table>\n"
      ],
      "text/latex": [
       "A data.frame: 15 × 4\n",
       "\\begin{tabular}{r|llll}\n",
       "  & Sepal.Length & Sepal.Width & Petal.Length & Petal.Width\\\\\n",
       "  & <dbl> & <dbl> & <dbl> & <dbl>\\\\\n",
       "\\hline\n",
       "\t1 & 5.1 & 3.5 & 1.4 & 0.2\\\\\n",
       "\t11 & 5.4 & 3.7 & 1.5 & 0.2\\\\\n",
       "\t21 & 5.4 & 3.4 & 1.7 & 0.2\\\\\n",
       "\t31 & 4.8 & 3.1 & 1.6 & 0.2\\\\\n",
       "\t41 & 5.0 & 3.5 & 1.3 & 0.3\\\\\n",
       "\t51 & 7.0 & 3.2 & 4.7 & 1.4\\\\\n",
       "\t61 & 5.0 & 2.0 & 3.5 & 1.0\\\\\n",
       "\t71 & 5.9 & 3.2 & 4.8 & 1.8\\\\\n",
       "\t81 & 5.5 & 2.4 & 3.8 & 1.1\\\\\n",
       "\t91 & 5.5 & 2.6 & 4.4 & 1.2\\\\\n",
       "\t101 & 6.3 & 3.3 & 6.0 & 2.5\\\\\n",
       "\t111 & 6.5 & 3.2 & 5.1 & 2.0\\\\\n",
       "\t121 & 6.9 & 3.2 & 5.7 & 2.3\\\\\n",
       "\t131 & 7.4 & 2.8 & 6.1 & 1.9\\\\\n",
       "\t141 & 6.7 & 3.1 & 5.6 & 2.4\\\\\n",
       "\\end{tabular}\n"
      ],
      "text/markdown": [
       "\n",
       "A data.frame: 15 × 4\n",
       "\n",
       "| <!--/--> | Sepal.Length &lt;dbl&gt; | Sepal.Width &lt;dbl&gt; | Petal.Length &lt;dbl&gt; | Petal.Width &lt;dbl&gt; |\n",
       "|---|---|---|---|---|\n",
       "| 1 | 5.1 | 3.5 | 1.4 | 0.2 |\n",
       "| 11 | 5.4 | 3.7 | 1.5 | 0.2 |\n",
       "| 21 | 5.4 | 3.4 | 1.7 | 0.2 |\n",
       "| 31 | 4.8 | 3.1 | 1.6 | 0.2 |\n",
       "| 41 | 5.0 | 3.5 | 1.3 | 0.3 |\n",
       "| 51 | 7.0 | 3.2 | 4.7 | 1.4 |\n",
       "| 61 | 5.0 | 2.0 | 3.5 | 1.0 |\n",
       "| 71 | 5.9 | 3.2 | 4.8 | 1.8 |\n",
       "| 81 | 5.5 | 2.4 | 3.8 | 1.1 |\n",
       "| 91 | 5.5 | 2.6 | 4.4 | 1.2 |\n",
       "| 101 | 6.3 | 3.3 | 6.0 | 2.5 |\n",
       "| 111 | 6.5 | 3.2 | 5.1 | 2.0 |\n",
       "| 121 | 6.9 | 3.2 | 5.7 | 2.3 |\n",
       "| 131 | 7.4 | 2.8 | 6.1 | 1.9 |\n",
       "| 141 | 6.7 | 3.1 | 5.6 | 2.4 |\n",
       "\n"
      ],
      "text/plain": [
       "    Sepal.Length Sepal.Width Petal.Length Petal.Width\n",
       "1   5.1          3.5         1.4          0.2        \n",
       "11  5.4          3.7         1.5          0.2        \n",
       "21  5.4          3.4         1.7          0.2        \n",
       "31  4.8          3.1         1.6          0.2        \n",
       "41  5.0          3.5         1.3          0.3        \n",
       "51  7.0          3.2         4.7          1.4        \n",
       "61  5.0          2.0         3.5          1.0        \n",
       "71  5.9          3.2         4.8          1.8        \n",
       "81  5.5          2.4         3.8          1.1        \n",
       "91  5.5          2.6         4.4          1.2        \n",
       "101 6.3          3.3         6.0          2.5        \n",
       "111 6.5          3.2         5.1          2.0        \n",
       "121 6.9          3.2         5.7          2.3        \n",
       "131 7.4          2.8         6.1          1.9        \n",
       "141 6.7          3.1         5.6          2.4        "
      ]
     },
     "metadata": {},
     "output_type": "display_data"
    }
   ],
   "source": [
    "iris[seq(1,150,10),1:4]"
   ]
  },
  {
   "cell_type": "code",
   "execution_count": 19,
   "metadata": {},
   "outputs": [
    {
     "data": {
      "image/png": "[encoded data removed]",
      "text/plain": [
       "plot without title"
      ]
     },
     "metadata": {
      "image/png": {
       "height": 300,
       "width": 180
      }
     },
     "output_type": "display_data"
    }
   ],
   "source": [
    "# 按照列做scale\n",
    "rs=scale( iris[seq(1,150,10),1:4] )\n",
    "\n",
    "library(pheatmap)\n",
    "options(repr.plot.width=3, repr.plot.height=5)\n",
    "p1=pheatmap( rs, border_color = \"NA\" ) #每列都有最值\n",
    "p1"
   ]
  },
  {
   "cell_type": "code",
   "execution_count": 20,
   "metadata": {},
   "outputs": [
    {
     "data": {
      "image/png": "[encoded data removed]",
      "text/plain": [
       "plot without title"
      ]
     },
     "metadata": {
      "image/png": {
       "height": 300,
       "width": 180
      }
     },
     "output_type": "display_data"
    }
   ],
   "source": [
    "p1"
   ]
  },
  {
   "cell_type": "markdown",
   "metadata": {},
   "source": [
    "### image()效果"
   ]
  },
  {
   "cell_type": "code",
   "execution_count": 21,
   "metadata": {},
   "outputs": [
    {
     "data": {
      "image/png": "[encoded data removed]",
      "text/plain": [
       "plot without title"
      ]
     },
     "metadata": {
      "image/png": {
       "height": 300,
       "width": 180
      }
     },
     "output_type": "display_data"
    }
   ],
   "source": [
    "options(repr.plot.width=3, repr.plot.height=5)\n",
    "image( t(scale( iris[seq(1,150,10),1:4] )) ) # mat第一行在图最底部"
   ]
  },
  {
   "cell_type": "code",
   "execution_count": null,
   "metadata": {},
   "outputs": [],
   "source": []
  },
  {
   "cell_type": "code",
   "execution_count": 22,
   "metadata": {},
   "outputs": [
    {
     "data": {
      "text/html": [
       "0"
      ],
      "text/latex": [
       "0"
      ],
      "text/markdown": [
       "0"
      ],
      "text/plain": [
       "[1] 0"
      ]
     },
     "metadata": {},
     "output_type": "display_data"
    },
    {
     "data": {
      "text/html": [
       "1"
      ],
      "text/latex": [
       "1"
      ],
      "text/markdown": [
       "1"
      ],
      "text/plain": [
       "[1] 1"
      ]
     },
     "metadata": {},
     "output_type": "display_data"
    },
    {
     "data": {
      "text/html": [
       "<style>\n",
       ".list-inline {list-style: none; margin:0; padding: 0}\n",
       ".list-inline>li {display: inline-block}\n",
       ".list-inline>li:not(:last-child)::after {content: \"\\00b7\"; padding: 0 .5ex}\n",
       "</style>\n",
       "<ol class=list-inline><li>20</li><li>500</li></ol>\n"
      ],
      "text/latex": [
       "\\begin{enumerate*}\n",
       "\\item 20\n",
       "\\item 500\n",
       "\\end{enumerate*}\n"
      ],
      "text/markdown": [
       "1. 20\n",
       "2. 500\n",
       "\n",
       "\n"
      ],
      "text/plain": [
       "[1]  20 500"
      ]
     },
     "metadata": {},
     "output_type": "display_data"
    },
    {
     "data": {
      "text/html": [
       "<table class=\"dataframe\">\n",
       "<caption>A matrix: 3 × 500 of type dbl</caption>\n",
       "<tbody>\n",
       "\t<tr><td>0</td><td>0.2222222</td><td>0.0000000</td><td>0.25</td><td>0</td><td>0</td><td>0</td><td>0.0</td><td>0.3636364</td><td>0.0</td><td>⋯</td><td>0</td><td>0.000</td><td>0.00</td><td>0.0000000</td><td>0</td><td>0.07692308</td><td>0.07692308</td><td>0.125</td><td>0</td><td>0.0000000</td></tr>\n",
       "\t<tr><td>0</td><td>0.0000000</td><td>0.1666667</td><td>0.00</td><td>0</td><td>0</td><td>0</td><td>0.0</td><td>0.0000000</td><td>0.0</td><td>⋯</td><td>0</td><td>0.125</td><td>0.75</td><td>0.1111111</td><td>0</td><td>0.15384615</td><td>0.07692308</td><td>0.000</td><td>0</td><td>0.1428571</td></tr>\n",
       "\t<tr><td>0</td><td>0.1111111</td><td>0.0000000</td><td>0.00</td><td>0</td><td>0</td><td>0</td><td>0.2</td><td>0.0000000</td><td>0.2</td><td>⋯</td><td>0</td><td>0.125</td><td>0.00</td><td>0.0000000</td><td>0</td><td>0.07692308</td><td>0.00000000</td><td>0.000</td><td>0</td><td>0.0000000</td></tr>\n",
       "</tbody>\n",
       "</table>\n"
      ],
      "text/latex": [
       "A matrix: 3 × 500 of type dbl\n",
       "\\begin{tabular}{lllllllllllllllllllll}\n",
       "\t 0 & 0.2222222 & 0.0000000 & 0.25 & 0 & 0 & 0 & 0.0 & 0.3636364 & 0.0 & ⋯ & 0 & 0.000 & 0.00 & 0.0000000 & 0 & 0.07692308 & 0.07692308 & 0.125 & 0 & 0.0000000\\\\\n",
       "\t 0 & 0.0000000 & 0.1666667 & 0.00 & 0 & 0 & 0 & 0.0 & 0.0000000 & 0.0 & ⋯ & 0 & 0.125 & 0.75 & 0.1111111 & 0 & 0.15384615 & 0.07692308 & 0.000 & 0 & 0.1428571\\\\\n",
       "\t 0 & 0.1111111 & 0.0000000 & 0.00 & 0 & 0 & 0 & 0.2 & 0.0000000 & 0.2 & ⋯ & 0 & 0.125 & 0.00 & 0.0000000 & 0 & 0.07692308 & 0.00000000 & 0.000 & 0 & 0.0000000\\\\\n",
       "\\end{tabular}\n"
      ],
      "text/markdown": [
       "\n",
       "A matrix: 3 × 500 of type dbl\n",
       "\n",
       "| 0 | 0.2222222 | 0.0000000 | 0.25 | 0 | 0 | 0 | 0.0 | 0.3636364 | 0.0 | ⋯ | 0 | 0.000 | 0.00 | 0.0000000 | 0 | 0.07692308 | 0.07692308 | 0.125 | 0 | 0.0000000 |\n",
       "| 0 | 0.0000000 | 0.1666667 | 0.00 | 0 | 0 | 0 | 0.0 | 0.0000000 | 0.0 | ⋯ | 0 | 0.125 | 0.75 | 0.1111111 | 0 | 0.15384615 | 0.07692308 | 0.000 | 0 | 0.1428571 |\n",
       "| 0 | 0.1111111 | 0.0000000 | 0.00 | 0 | 0 | 0 | 0.2 | 0.0000000 | 0.2 | ⋯ | 0 | 0.125 | 0.00 | 0.0000000 | 0 | 0.07692308 | 0.00000000 | 0.000 | 0 | 0.0000000 |\n",
       "\n"
      ],
      "text/plain": [
       "     [,1] [,2]      [,3]      [,4] [,5] [,6] [,7] [,8] [,9]      [,10] [,11]\n",
       "[1,] 0    0.2222222 0.0000000 0.25 0    0    0    0.0  0.3636364 0.0   ⋯    \n",
       "[2,] 0    0.0000000 0.1666667 0.00 0    0    0    0.0  0.0000000 0.0   ⋯    \n",
       "[3,] 0    0.1111111 0.0000000 0.00 0    0    0    0.2  0.0000000 0.2   ⋯    \n",
       "     [,12] [,13] [,14] [,15]     [,16] [,17]      [,18]      [,19] [,20]\n",
       "[1,] 0     0.000 0.00  0.0000000 0     0.07692308 0.07692308 0.125 0    \n",
       "[2,] 0     0.125 0.75  0.1111111 0     0.15384615 0.07692308 0.000 0    \n",
       "[3,] 0     0.125 0.00  0.0000000 0     0.07692308 0.00000000 0.000 0    \n",
       "     [,21]    \n",
       "[1,] 0.0000000\n",
       "[2,] 0.1428571\n",
       "[3,] 0.0000000"
      ]
     },
     "metadata": {},
     "output_type": "display_data"
    }
   ],
   "source": [
    "# 造数据\n",
    "set.seed(1)\n",
    "exps=c()\n",
    "for(i in 1:500){\n",
    "    tmp =rbinom(20, 1, 0.4) #随机0元素\n",
    "    tmp= tmp * rbinom(20, 10, 0.1) \n",
    "    exps=c(exps, tmp)\n",
    "}\n",
    "mat= matrix(exps, nrow=20) #20行 ?列 \n",
    "\n",
    "mat[mat > 4] <- 4\n",
    "\n",
    "mat=apply( mat, 2, function(x){\n",
    "    x/sum(x)\n",
    "} )\n",
    "\n",
    "min(mat)\n",
    "max(mat)\n",
    "\n",
    "dim(mat)\n",
    "mat[1:3,]"
   ]
  },
  {
   "cell_type": "code",
   "execution_count": 23,
   "metadata": {},
   "outputs": [
    {
     "data": {
      "text/html": [
       "<style>\n",
       ".list-inline {list-style: none; margin:0; padding: 0}\n",
       ".list-inline>li {display: inline-block}\n",
       ".list-inline>li:not(:last-child)::after {content: \"\\00b7\"; padding: 0 .5ex}\n",
       "</style>\n",
       "<ol class=list-inline><li>'g1'</li><li>'g2'</li><li>'g3'</li><li>'g4'</li><li>'g5'</li><li>'g6'</li><li>'g7'</li><li>'g8'</li><li>'g9'</li><li>'g10'</li></ol>\n"
      ],
      "text/latex": [
       "\\begin{enumerate*}\n",
       "\\item 'g1'\n",
       "\\item 'g2'\n",
       "\\item 'g3'\n",
       "\\item 'g4'\n",
       "\\item 'g5'\n",
       "\\item 'g6'\n",
       "\\item 'g7'\n",
       "\\item 'g8'\n",
       "\\item 'g9'\n",
       "\\item 'g10'\n",
       "\\end{enumerate*}\n"
      ],
      "text/markdown": [
       "1. 'g1'\n",
       "2. 'g2'\n",
       "3. 'g3'\n",
       "4. 'g4'\n",
       "5. 'g5'\n",
       "6. 'g6'\n",
       "7. 'g7'\n",
       "8. 'g8'\n",
       "9. 'g9'\n",
       "10. 'g10'\n",
       "\n",
       "\n"
      ],
      "text/plain": [
       " [1] \"g1\"  \"g2\"  \"g3\"  \"g4\"  \"g5\"  \"g6\"  \"g7\"  \"g8\"  \"g9\"  \"g10\""
      ]
     },
     "metadata": {},
     "output_type": "display_data"
    }
   ],
   "source": [
    "gene_list=paste0(\"g\", 1:nrow(mat) )\n",
    "gene_list[1:10]"
   ]
  },
  {
   "cell_type": "code",
   "execution_count": 24,
   "metadata": {},
   "outputs": [
    {
     "data": {
      "image/png": "[encoded data removed]",
      "text/plain": [
       "plot without title"
      ]
     },
     "metadata": {
      "image/png": {
       "height": 184.8387,
       "width": 317.1429
      }
     },
     "output_type": "display_data"
    }
   ],
   "source": [
    "# section 2\n",
    "options(repr.plot.width=6/14*10+1, repr.plot.height=4/15.5*10+0.5)\n",
    "\n",
    "#options(repr.plot.width=6, repr.plot.height=4)\n",
    "# 使用layout函数，每个区域还设置了高度heighs和宽度widths\n",
    "#layout( matrix(1:6,nrow=3,ncol=2), widths=c(10,4), heights=c(.5,10,.5))\n",
    "#\n",
    "# 使用了par设置oma，mar图的边距\n",
    "par(oma=c(1,5, 1.5, 0.1))\n",
    "\n",
    "\n",
    "#%%%%%%%%%%%%%%%%%%%%%%%\n",
    "# row1 占位符\n",
    "par(mar=c(0,0,0,0))\n",
    "#plot(c(1))\n",
    "\n",
    "\n",
    "#%%%%%%%%%%%%%%%%%%%%%%%\n",
    "#row2\n",
    "# image绘制表达谱矩阵，使用了rgb设置颜色\n",
    "image( t(log2(1+as.matrix(mat))), col=rgb(s,s,s), xaxt=\"n\",yaxt=\"n\")\n",
    "box() # 矩阵外面添加盒子\n",
    "abline(v=breaks,col=\"red\") # 添加两条红色的直线\n",
    "\n",
    "# 添加行基因名字\n",
    "mtext(gene_list,side=2,at=seq(0,1,1/(length(gene_list)-1)),las=2,line=.25,font=3,cex=.6)"
   ]
  },
  {
   "cell_type": "markdown",
   "metadata": {},
   "source": [
    "## 第一列第三行"
   ]
  },
  {
   "cell_type": "code",
   "execution_count": 25,
   "metadata": {},
   "outputs": [
    {
     "data": {
      "image/png": "[encoded data removed]",
      "text/plain": [
       "plot without title"
      ]
     },
     "metadata": {
      "image/png": {
       "height": 169.3548,
       "width": 317.1429
      }
     },
     "output_type": "display_data"
    }
   ],
   "source": [
    "# section 3\n",
    "options(repr.plot.width=6/14*10+1, repr.plot.height=0.5/15.5*10+2.5)\n",
    "\n",
    "#options(repr.plot.width=6, repr.plot.height=4)\n",
    "# 使用layout函数，每个区域还设置了高度heighs和宽度widths\n",
    "layout( matrix(1:6,nrow=3,ncol=2), widths=c(10,4), heights=c(.5,10,.5))\n",
    "#\n",
    "# 使用了par设置oma，mar图的边距\n",
    "par(oma=c(1,5, 1.5, 0.1))\n",
    "\n",
    "\n",
    "#%%%%%%%%%%%%%%%%%%%%%%%\n",
    "# row1 占位符\n",
    "par(mar=c(0,0,0,0))\n",
    "#plot(c(1))\n",
    "#plot(c(1))\n",
    "\n",
    "\n",
    "cell2sample =c(\"Naive\",\"KP\",\"Naive\", \"Naive\", \"Naive\",\"Naive\",\"Naive\",\"Naive\",\"KP\",\"KP\",\"KP\")\n",
    "\n",
    "par(mar=c(0,0,0,0))\n",
    "image(as.matrix(as.numeric(factor(cell2sample,c(\"Naive\",\"KP\")))),\n",
    "      col=c(rgb(255,192,203,max=255),rgb(165,75,42,max=255)),\n",
    "      xaxt=\"n\",yaxt=\"n\")\n",
    "abline(v=breaks,col=\"red\")\n",
    "box()\n",
    "mtext(\"Sample type\",font=2,side=2,las=2,line=.25,cex=.6)"
   ]
  },
  {
   "cell_type": "markdown",
   "metadata": {},
   "source": [
    "# 第二列"
   ]
  },
  {
   "cell_type": "markdown",
   "metadata": {},
   "source": [
    "## legend 间距"
   ]
  },
  {
   "cell_type": "code",
   "execution_count": 26,
   "metadata": {},
   "outputs": [
    {
     "data": {
      "image/png": "[encoded data removed]",
      "text/plain": [
       "plot without title"
      ]
     },
     "metadata": {
      "image/png": {
       "height": 300,
       "width": 240
      }
     },
     "output_type": "display_data"
    }
   ],
   "source": [
    "options(repr.plot.width=4, repr.plot.height=5)\n",
    "plot(c(1))\n",
    "\n",
    "legend(x=0.6,y=1.7,legend = c(\"KO\",\"Ctrl\"),\n",
    "       xpd=T,\n",
    "       \n",
    "       y.intersp=2, #图形之间的y距离，高度差\n",
    "       x.intersp=3, #图形和文字的x距离\n",
    "       \n",
    "       text.width=2, #两个图例之间的距离(这里没作用)\n",
    "       \n",
    "       cex=1.8, #图例缩放倍数\n",
    "       bty=\"n\", #不要图例的外方框\n",
    "       border=NA, #不要图例小方块描边\n",
    "       \n",
    "       fill = c( rgb(255,192,203,max=255),rgb(165,75,42,max=255) ) )"
   ]
  },
  {
   "cell_type": "markdown",
   "metadata": {},
   "source": [
    "## legend 方块图例不要边框"
   ]
  },
  {
   "cell_type": "code",
   "execution_count": 27,
   "metadata": {},
   "outputs": [
    {
     "data": {
      "image/png": "[encoded data removed]",
      "text/plain": [
       "plot without title"
      ]
     },
     "metadata": {
      "image/png": {
       "height": 300,
       "width": 240
      }
     },
     "output_type": "display_data"
    }
   ],
   "source": [
    "# 为什么没有颜色？\n",
    "options(repr.plot.width=4, repr.plot.height=5)\n",
    "\n",
    "par(mar=c(0,0,0,0))\n",
    "\n",
    "plot.new()\n",
    "legend(x=0,y=1, legend = c(\"Naive\",\"KP\"),\n",
    "       xpd=NA,\n",
    "       border=NA, #不要图例小方块描边\n",
    "       cex=1.8, #图例缩放倍数\n",
    "       bty=\"n\", #不要图例的方框\n",
    "       fill = c( rgb(255,192,203,max=255),rgb(165,75,42,max=255) ) )"
   ]
  },
  {
   "cell_type": "code",
   "execution_count": null,
   "metadata": {},
   "outputs": [],
   "source": []
  },
  {
   "cell_type": "markdown",
   "metadata": {},
   "source": [
    "## 正图"
   ]
  },
  {
   "cell_type": "code",
   "execution_count": 28,
   "metadata": {},
   "outputs": [
    {
     "data": {
      "image/png": "[encoded data removed]",
      "text/plain": [
       "plot without title"
      ]
     },
     "metadata": {
      "image/png": {
       "height": 240,
       "width": 78
      }
     },
     "output_type": "display_data"
    }
   ],
   "source": [
    "# section 4 5 6\n",
    "options(repr.plot.width=1.3, repr.plot.height=4)\n",
    "layout( matrix(1:3,nrow=3,ncol=1), widths=c(4), heights=c(.5,10,.5))\n",
    "\n",
    "par(oma=c(1,5, 1.5, 0.1)) # 使用了par设置oma，mar图的边距\n",
    "par(mar=c(0,0,0,0)) # 设置绘图边距\n",
    "plot.new() #第一行空着\n",
    "\n",
    "# 第二行\n",
    "par(mar=c(5,1.5,5,1.5))\n",
    "image(t(matrix(1:50)),col=rgb(s,s,s),xaxt=\"n\",yaxt=\"n\")\n",
    "box()\n",
    "mtext(c(\"0\",\"\\u22654\"),at=c(0,1),las=2,side=4,cex=.7,line=.25) #特殊符号 >=\n",
    "mtext(\"Log2\\n1+#UMI per 2000\",side=3,line=.5,cex=.4)\n",
    "#mtext(\"1+#UMI/2000\",line=.5,cex=.5)\n",
    "\n",
    "# 第三行\n",
    "par(mar=c(0,0,0,0))\n",
    "plot.new()\n",
    "legend(x=0,y=1, legend = c(\"Naive\",\"KP\"),\n",
    "       xpd=NA,\n",
    "       border=NA, #不要图例小方块描边\n",
    "       cex=0.8, #图例缩放倍数\n",
    "       bty=\"n\", #不要图例的方框\n",
    "       fill = c( rgb(255,192,203,max=255),rgb(165,75,42,max=255) ) )"
   ]
  },
  {
   "cell_type": "markdown",
   "metadata": {},
   "source": [
    "# 合并后的图"
   ]
  },
  {
   "cell_type": "code",
   "execution_count": 29,
   "metadata": {},
   "outputs": [
    {
     "name": "stdout",
     "output_type": "stream",
     "text": [
      "    0     1 \n",
      "0.125 0.625 \n"
     ]
    }
   ],
   "source": [
    "# data\n",
    "df2=matrix(c(0,1,1,2,2), ncol = 1)\n",
    "\n",
    "# 计算红线的位置\n",
    "span=1/(nrow(df2)-1) #每份宽度\n",
    "breaks <- ( cumsum(table(df2[,1]))-0.5 ) *span #分界线的位置\n",
    "breaks <- breaks[breaks<1]\n",
    "print( breaks )\n",
    "\n",
    "\n",
    "# 计算顶部文字x坐标\n",
    "#mid_clusts <- (c(0,breaks)+c(breaks,1))/2 #原文不准确，两端并不是简单的0和1，而是分别外延0.5份。\n",
    "mid_clusts <- (c(-0.5*span,breaks)+c(breaks,1+0.5*span))/2\n",
    "\n",
    "\n",
    "\n",
    "cell2sample =c(\"Naive\",\"KP\",\"Naive\", \"Naive\", \"KP\")"
   ]
  },
  {
   "cell_type": "code",
   "execution_count": 30,
   "metadata": {},
   "outputs": [
    {
     "data": {
      "text/html": [
       "0"
      ],
      "text/latex": [
       "0"
      ],
      "text/markdown": [
       "0"
      ],
      "text/plain": [
       "[1] 0"
      ]
     },
     "metadata": {},
     "output_type": "display_data"
    },
    {
     "data": {
      "text/html": [
       "0.25"
      ],
      "text/latex": [
       "0.25"
      ],
      "text/markdown": [
       "0.25"
      ],
      "text/plain": [
       "[1] 0.25"
      ]
     },
     "metadata": {},
     "output_type": "display_data"
    },
    {
     "data": {
      "text/html": [
       "<style>\n",
       ".list-inline {list-style: none; margin:0; padding: 0}\n",
       ".list-inline>li {display: inline-block}\n",
       ".list-inline>li:not(:last-child)::after {content: \"\\00b7\"; padding: 0 .5ex}\n",
       "</style>\n",
       "<ol class=list-inline><li>20</li><li>5</li></ol>\n"
      ],
      "text/latex": [
       "\\begin{enumerate*}\n",
       "\\item 20\n",
       "\\item 5\n",
       "\\end{enumerate*}\n"
      ],
      "text/markdown": [
       "1. 20\n",
       "2. 5\n",
       "\n",
       "\n"
      ],
      "text/plain": [
       "[1] 20  5"
      ]
     },
     "metadata": {},
     "output_type": "display_data"
    },
    {
     "data": {
      "text/html": [
       "<table class=\"dataframe\">\n",
       "<caption>A matrix: 3 × 5 of type dbl</caption>\n",
       "<tbody>\n",
       "\t<tr><td>0</td><td>0.2222222</td><td>0.0000000</td><td>0.25</td><td>0</td></tr>\n",
       "\t<tr><td>0</td><td>0.0000000</td><td>0.1666667</td><td>0.00</td><td>0</td></tr>\n",
       "\t<tr><td>0</td><td>0.1111111</td><td>0.0000000</td><td>0.00</td><td>0</td></tr>\n",
       "</tbody>\n",
       "</table>\n"
      ],
      "text/latex": [
       "A matrix: 3 × 5 of type dbl\n",
       "\\begin{tabular}{lllll}\n",
       "\t 0 & 0.2222222 & 0.0000000 & 0.25 & 0\\\\\n",
       "\t 0 & 0.0000000 & 0.1666667 & 0.00 & 0\\\\\n",
       "\t 0 & 0.1111111 & 0.0000000 & 0.00 & 0\\\\\n",
       "\\end{tabular}\n"
      ],
      "text/markdown": [
       "\n",
       "A matrix: 3 × 5 of type dbl\n",
       "\n",
       "| 0 | 0.2222222 | 0.0000000 | 0.25 | 0 |\n",
       "| 0 | 0.0000000 | 0.1666667 | 0.00 | 0 |\n",
       "| 0 | 0.1111111 | 0.0000000 | 0.00 | 0 |\n",
       "\n"
      ],
      "text/plain": [
       "     [,1] [,2]      [,3]      [,4] [,5]\n",
       "[1,] 0    0.2222222 0.0000000 0.25 0   \n",
       "[2,] 0    0.0000000 0.1666667 0.00 0   \n",
       "[3,] 0    0.1111111 0.0000000 0.00 0   "
      ]
     },
     "metadata": {},
     "output_type": "display_data"
    }
   ],
   "source": [
    "# 造数据\n",
    "set.seed(1)\n",
    "exps=c()\n",
    "for(i in 1:5){\n",
    "    tmp =rbinom(20, 1, 0.4) #随机0元素\n",
    "    tmp= tmp * rbinom(20, 10, 0.1) \n",
    "    exps=c(exps, tmp)\n",
    "}\n",
    "mat= matrix(exps, nrow=20) #20行 ?列 \n",
    "\n",
    "mat[mat > 4] <- 4\n",
    "\n",
    "mat=apply( mat, 2, function(x){\n",
    "    x/sum(x)\n",
    "} )\n",
    "\n",
    "min(mat)\n",
    "max(mat)\n",
    "\n",
    "dim(mat) #20行 5列\n",
    "mat[1:3,]"
   ]
  },
  {
   "cell_type": "code",
   "execution_count": 31,
   "metadata": {},
   "outputs": [
    {
     "data": {
      "image/png": "[encoded data removed]",
      "text/plain": [
       "plot without title"
      ]
     },
     "metadata": {
      "image/png": {
       "height": 190.8,
       "width": 151.8
      }
     },
     "output_type": "display_data"
    }
   ],
   "source": [
    "#png(paste0(\"fig1b.png\"),height=3.18,width=2.53,units=\"in\",res=1000)\n",
    "\n",
    "options(repr.plot.width=2.53, repr.plot.height=3.18, units=\"in\") ##height=3.18,width=2.53,\n",
    "# 使用layout函数，每个区域还设置了高度heighs和宽度widths\n",
    "layout( matrix(1:6,nrow=3,ncol=2), widths=c(10,4), heights=c(.5,10,.5))\n",
    "par(oma=c(1,5,1.5,.1)) # 使用了par设置oma，mar图的边距\n",
    "\n",
    "\n",
    "#%%%%%%%%%%%%%%%%%%\n",
    "# 第1列\n",
    "#%%%%%%%%%%%%%%%%%%\n",
    "#column 1\n",
    "par(mar=c(0,0,0,0))\n",
    "\n",
    "# pic1 热图\n",
    "image( #x=0:nrow(df2), y=1, \n",
    "      z=df2, xaxt=\"n\", yaxt=\"n\", col=lin_col)\n",
    "box() #方框\n",
    "abline(v=breaks, col=\"red\") #红线\n",
    "mtext(at=mid_clusts,c(\"mregDC\",\"DC1\",\"DC2\"),cex=.7,line=.25) #上方文字\n",
    "\n",
    "mtext(\"Annotation\",font=2,side=2,las=2,line=.25,cex=.6) #左边文字\n",
    "axis(side=3,at=mid_clusts,labels=F,tck=-.2)\n",
    "\n",
    "# pic2\n",
    "# image绘制表达谱矩阵，使用了rgb设置颜色\n",
    "image( z=t(log2(1+as.matrix(mat))), col=rgb(s,s,s), xaxt=\"n\",yaxt=\"n\")\n",
    "box() # 矩阵外面添加盒子\n",
    "abline(v=breaks,col=\"red\") # 添加两条红色的直线\n",
    "\n",
    "# 添加行基因名字\n",
    "mtext(gene_list,side=2,at=seq(0,1,1/(length(gene_list)-1)),las=2,line=.25,font=3,cex=.6)\n",
    "\n",
    "\n",
    "# pic3\n",
    "par(mar=c(0,0,0,0))\n",
    "image(z=as.matrix(as.numeric(factor(cell2sample,c(\"Naive\",\"KP\")))),\n",
    "      col=c(rgb(255,192,203,max=255),rgb(165,75,42,max=255)),\n",
    "      xaxt=\"n\",yaxt=\"n\")\n",
    "abline(v=breaks,col=\"red\")\n",
    "box()\n",
    "mtext(\"Sample type\",font=2,side=2,las=2,line=.25,cex=.6)\n",
    "\n",
    "\n",
    "\n",
    "\n",
    "#%%%%%%%%%%%%%%%%%%\n",
    "# 第二列\n",
    "#%%%%%%%%%%%%%%%%%%\n",
    "par(mar=c(0,0,0,0)) # 设置绘图边距\n",
    "plot.new() #第一行空着\n",
    "\n",
    "# 第二行\n",
    "par(mar=c(5,1.5,5,1.5))\n",
    "image(t(matrix(1:50)),col=rgb(s,s,s),xaxt=\"n\",yaxt=\"n\")\n",
    "box()\n",
    "mtext(c(\"0\",\"\\u22654\"),at=c(0,1),las=2,side=4,cex=.7,line=.25) #特殊符号 >=\n",
    "mtext(\"Log2\\n1+#UMI per 2000\",side=3,line=.5,cex=.4)\n",
    "#mtext(\"1+#UMI/2000\",line=.5,cex=.5)\n",
    "\n",
    "# 第三行\n",
    "par(mar=c(0,0,0,0))\n",
    "plot.new()\n",
    "legend(x=0,y=1, legend = c(\"Naive\",\"KP\"),\n",
    "       xpd=NA,\n",
    "       y.intersp=1.5, #图形之间的高度差\n",
    "       border=NA, #不要图例小方块描边\n",
    "       cex=0.8, #图例缩放倍数\n",
    "       bty=\"n\", #不要图例的方框\n",
    "       fill = c( rgb(255,192,203,max=255),rgb(165,75,42,max=255) ) )\n",
    "\n",
    "#dev.off()"
   ]
  }
 ],
 "metadata": {
  "kernelspec": {
   "display_name": "R",
   "language": "R",
   "name": "ir"
  },
  "language_info": {
   "codemirror_mode": "r",
   "file_extension": ".r",
   "mimetype": "text/x-r-source",
   "name": "R",
   "pygments_lexer": "r",
   "version": "3.6.3"
  },
  "toc": {
   "base_numbering": 1,
   "nav_menu": {},
   "number_sections": true,
   "sideBar": true,
   "skip_h1_title": false,
   "title_cell": "Table of Contents",
   "title_sidebar": "Contents",
   "toc_cell": false,
   "toc_position": {},
   "toc_section_display": true,
   "toc_window_display": true
  }
 },
 "nbformat": 4,
 "nbformat_minor": 4
}
