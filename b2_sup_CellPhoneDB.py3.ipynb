{
 "cells": [
  {
   "cell_type": "code",
   "execution_count": 1,
   "metadata": {},
   "outputs": [
    {
     "data": {
      "text/plain": [
       "'/data/wangjl/scScripts'"
      ]
     },
     "execution_count": 1,
     "metadata": {},
     "output_type": "execute_result"
    }
   ],
   "source": [
    "import os\n",
    "os.chdir(\"/data/wangjl/scScripts/\")\n",
    "os.getcwd()"
   ]
  },
  {
   "cell_type": "code",
   "execution_count": 2,
   "metadata": {},
   "outputs": [
    {
     "data": {
      "text/plain": [
       "'/data/wangjl/scScriptsbackup/b2/'"
      ]
     },
     "execution_count": 2,
     "metadata": {},
     "output_type": "execute_result"
    }
   ],
   "source": [
    "import os\n",
    "if not os.path.exists('backup/b2'):\n",
    "    os.mkdir(\"backup/b2\")\n",
    "\n",
    "outputRoot= os.getcwd()+\"backup/b2/\"\n",
    "outputRoot"
   ]
  },
  {
   "cell_type": "markdown",
   "metadata": {},
   "source": [
    "# cellPhoneDB"
   ]
  },
  {
   "cell_type": "raw",
   "metadata": {},
   "source": [
    "$ pip3 install cellphonedb"
   ]
  },
  {
   "cell_type": "markdown",
   "metadata": {},
   "source": [
    "## online resource"
   ]
  },
  {
   "cell_type": "markdown",
   "metadata": {},
   "source": [
    "https://github.com/Teichlab/cellphonedb\n",
    "\n",
    "https://www.cellphonedb.org/explore-sc-rna-seq\n",
    "\n",
    "[数据库设计图](https://www.cellphonedb.org/documentation#figure-4)"
   ]
  },
  {
   "cell_type": "markdown",
   "metadata": {},
   "source": [
    "### 下载示例数据"
   ]
  },
  {
   "cell_type": "markdown",
   "metadata": {},
   "source": [
    "```\n",
    "$ curl https://raw.githubusercontent.com/Teichlab/cellphonedb/master/in/example_data/test_counts.txt --output test_counts.txt\n",
    "$ curl https://raw.githubusercontent.com/Teichlab/cellphonedb/master/in/example_data/test_meta.txt --output test_meta.txt\n",
    "```"
   ]
  },
  {
   "cell_type": "markdown",
   "metadata": {},
   "source": [
    "## begin"
   ]
  },
  {
   "cell_type": "code",
   "execution_count": 3,
   "metadata": {},
   "outputs": [],
   "source": [
    "import cellphonedb"
   ]
  },
  {
   "cell_type": "markdown",
   "metadata": {},
   "source": [
    "```\n",
    "$ cellphonedb method statistical_analysis test_meta.txt test_counts.txt \n",
    "\n",
    "参数解释: https://github.com/Teichlab/cellphonedb\n",
    "--counts-data: [ensembl | gene_name | hgnc_symbol] Type of gene identifiers in the counts data\n",
    "--iterations: Number of iterations for the statistical analysis [1000]\n",
    "--threshold: % of cells expressing the specific ligand/receptor\n",
    "\n",
    "Set number of iterations and threads\n",
    "$ cellphonedb method statistical_analysis yourmetafile.txt yourcountsfile.txt --iterations=10 --threads=2\n",
    "\n",
    "Set project subfolder\n",
    "$ cellphonedb method analysis yourmetafile.txt yourcountsfile.txt --project-name=new_project\n",
    "\n",
    "Set output path\n",
    "$ mkdir custom_folder\n",
    "$ cellphonedb method statistical_analysis yourmetafile.txt yourcountsfile.txt --output-path=custom_folder\n",
    "\n",
    "Subsampling\n",
    "$ cellphonedb method analysis yourmetafile.txt yourcountsfile.txt --subsampling --subsampling-log false --subsampling-num-cells 3000\n",
    "```"
   ]
  },
  {
   "cell_type": "markdown",
   "metadata": {},
   "source": [
    "# Plotting statistical method results"
   ]
  },
  {
   "cell_type": "markdown",
   "metadata": {},
   "source": [
    "Currently there are two plot types available: dot_plot & heatmap_plot\n",
    "\n",
    "Once you have the needed files (means & pvalues) you can proceed as follows:\n",
    "\n",
    "- cellphonedb plot dot_plot\n",
    "- cellphonedb plot heatmap_plot yourmeta.txt"
   ]
  },
  {
   "cell_type": "markdown",
   "metadata": {},
   "source": [
    "## dot_pot"
   ]
  },
  {
   "cell_type": "raw",
   "metadata": {},
   "source": [
    "$ cellphonedb plot dot_plot --means-path=\"test_out/means.txt\" --pvalues-path=\"test_out/pvalues.txt\" --output-path=\"test_out/\"\n",
    "# 这个图太大，怎么控制尺寸？\n",
    "\n",
    "# 这个函数可以试试: \n",
    "https://github.com/MISAKA-DaYu/CellPhoneDB.plots/blob/main/cpdb.R"
   ]
  },
  {
   "cell_type": "markdown",
   "metadata": {},
   "source": [
    "## heatmap_plot"
   ]
  },
  {
   "cell_type": "raw",
   "metadata": {},
   "source": [
    "$ cellphonedb plot heatmap_plot test_meta.txt --pvalues-path=\"test_out/pvalues.txt\" --output-path=\"test_out/\""
   ]
  },
  {
   "cell_type": "markdown",
   "metadata": {},
   "source": [
    "# mydata: pbmc"
   ]
  },
  {
   "cell_type": "raw",
   "metadata": {},
   "source": [
    "# 我自己的数据，每个类抽100个细胞:\n",
    "$ cellphonedb method statistical_analysis --counts-data=\"gene_name\"  0_meta.txt 0_counts.txt\n",
    "\n",
    "# 14:37 - 15:31"
   ]
  },
  {
   "cell_type": "markdown",
   "metadata": {},
   "source": [
    "## 绘图"
   ]
  },
  {
   "cell_type": "code",
   "execution_count": null,
   "metadata": {},
   "outputs": [],
   "source": [
    "# 点图\n",
    "cellphonedb plot dot_plot --means-path=\"out/means.txt\" --pvalues-path=\"out/pvalues.txt\" --output-path=\"out/\"\n",
    "\n",
    "# 热图\n",
    "cellphonedb plot heatmap_plot 0_meta.txt --pvalues-path=\"out/pvalues.txt\" --output-path=\"out/\""
   ]
  },
  {
   "cell_type": "markdown",
   "metadata": {},
   "source": [
    "### 用R绘图"
   ]
  },
  {
   "cell_type": "code",
   "execution_count": null,
   "metadata": {},
   "outputs": [],
   "source": [
    "# cellPhoneDB_plot.R\n",
    "\n",
    "#> cpdb_heatmap('out/means.txt', 'out/pvalues.txt', '0_meta.txt', 'out/R_')\n",
    "#> cpdb_dotplot('out/means.txt', 'out/pvalues.txt', '0_meta.txt', 'out/R_')"
   ]
  }
 ],
 "metadata": {
  "kernelspec": {
   "display_name": "Python 3",
   "language": "python",
   "name": "python3"
  },
  "language_info": {
   "codemirror_mode": {
    "name": "ipython",
    "version": 3
   },
   "file_extension": ".py",
   "mimetype": "text/x-python",
   "name": "python",
   "nbconvert_exporter": "python",
   "pygments_lexer": "ipython3",
   "version": "3.6.9"
  },
  "toc": {
   "base_numbering": 1,
   "nav_menu": {},
   "number_sections": true,
   "sideBar": true,
   "skip_h1_title": false,
   "title_cell": "Table of Contents",
   "title_sidebar": "Contents",
   "toc_cell": false,
   "toc_position": {},
   "toc_section_display": true,
   "toc_window_display": true
  }
 },
 "nbformat": 4,
 "nbformat_minor": 4
}
